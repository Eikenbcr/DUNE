{
 "cells": [
  {
   "cell_type": "code",
   "execution_count": null,
   "metadata": {},
   "outputs": [],
   "source": [
    "import matplotlib.pyplot as plt\n",
    "import pandas as pd\n",
    "import numpy as np"
   ]
  },
  {
   "cell_type": "code",
   "execution_count": null,
   "metadata": {},
   "outputs": [],
   "source": [
    "g4_df = pd.read_csv(\"../muon_rtd_2023-06-01_165701/g4_output.txt\")\n",
    "resets_df = pd.read_csv(\"../muon_rtd_2023-06-01_165701/resets_output.txt\")"
   ]
  },
  {
   "cell_type": "code",
   "execution_count": null,
   "metadata": {},
   "outputs": [],
   "source": [
    "xi_muon = []\n",
    "yi_muon = [] \n",
    "zi_muon = []\n",
    "E_muon = []\n",
    "\n",
    "for i in range(100):\n",
    "    xi_muon.append(g4_df[g4_df.event == i].xi.iloc[0])\n",
    "    yi_muon.append(g4_df[g4_df.event == i].yi.iloc[0])\n",
    "    zi_muon.append(g4_df[g4_df.event == i].zi.iloc[0])  \n",
    "    E_muon.append(g4_df[g4_df.event == i].E.iloc[0])  \n",
    "    \n",
    "int_stats_df = pd.DataFrame()\n",
    "int_stats_df['xi_muon']=pd.Series(xi_muon)\n",
    "int_stats_df['yi_muon']=pd.Series(yi_muon)\n",
    "int_stats_df['zi_muon']=pd.Series(zi_muon)\n",
    "int_stats_df['E_muon']=pd.Series(E_muon)\n",
    "int_stats_df.to_pickle('int_stats_df.pkl')"
   ]
  },
  {
   "cell_type": "code",
   "execution_count": null,
   "metadata": {},
   "outputs": [],
   "source": [
    "event0_g4_df = g4_df[['event','xi','xf','yi','yf','zi','zf','ti','tf','E','ParticleID']][g4_df.event == 0].copy()\n",
    "event0_g4_df.to_pickle('event0_g4_df.pkl')"
   ]
  },
  {
   "cell_type": "code",
   "execution_count": null,
   "metadata": {},
   "outputs": [],
   "source": [
    "resets_df_micro = resets_df.copy()\n",
    "resets_df_micro['reset_time'] = resets_df_micro.reset_time.mul(1e+6)\n",
    "resets_df_micro.to_pickle('resets_df_micro.pkl')"
   ]
  },
  {
   "cell_type": "code",
   "execution_count": null,
   "metadata": {},
   "outputs": [],
   "source": [
    "event0_resets_df_micro = resets_df_micro[['event','pixel_x','pixel_y','reset_time','TSLR','nMCParticles']][resets_df_micro.event == 0].copy()\n",
    "event0_resets_df_micro.to_pickle('event0_resets_df_micro.pkl')"
   ]
  },
  {
   "cell_type": "code",
   "execution_count": null,
   "metadata": {},
   "outputs": [],
   "source": [
    "def rms(array):\n",
    "    return np.sqrt(np.sum((array - np.mean(array))**2) / len(array))\n",
    "\n",
    "pix_x_event = []\n",
    "pix_y_event = []\n",
    "active_pixels_event = []\n",
    "\n",
    "mean_resets = []\n",
    "rms_resets = []\n",
    "active_pix_x = []\n",
    "active_pix_y = []\n",
    "event_num = []\n",
    "resets_num = []\n",
    "\n",
    "for k in range(0,100):\n",
    "    for i in range(len(resets_df_micro[resets_df_micro.event == k].reset_time)):\n",
    "        if (resets_df_micro[resets_df_micro.event == k].pixel_x.iloc[i] in pix_x_event) and (resets_df_micro[resets_df_micro.event == k].pixel_y.iloc[i] in pix_y_event):\n",
    "            pass\n",
    "        else:\n",
    "            pix_x_event.append(resets_df_micro[resets_df_micro.event == k].pixel_x.iloc[i])\n",
    "            pix_y_event.append(resets_df_micro[resets_df_micro.event == k].pixel_y.iloc[i])\n",
    "    \n",
    "    active_pixels_event.append(len(pix_x_event))\n",
    "    for m in range(len(pix_x_event)):\n",
    "        reset_subset = resets_df_micro[(resets_df_micro.event == k) & (resets_df_micro.pixel_x == pix_x_event[m]) & (resets_df_micro.pixel_y == pix_y_event[m])].reset_time.to_numpy()\n",
    "        if len(reset_subset) > 0:\n",
    "            mean_value = np.mean(reset_subset)  # Calculate the mean of the current subset\n",
    "            rms_value = rms(reset_subset)  # Calculate the RMS of the current subset\n",
    "            mean_resets.append(mean_value)\n",
    "            rms_resets.append(rms_value)\n",
    "            resets_num.append(len(reset_subset))\n",
    "            event_num.append(k)\n",
    "            active_pix_x.append(pix_x_event[m])\n",
    "            active_pix_y.append(pix_y_event[m])      \n",
    "            \n",
    "    pix_x_event = []\n",
    "    pix_y_event = []\n",
    "    reset_subset = []\n",
    "\n",
    "    \n",
    "active_pixels_df = pd.DataFrame()   \n",
    "active_pixels_df['active_pixels']=pd.Series(active_pixels_event)\n",
    "active_pixels_df.to_pickle('active_pixels_df.pkl')\n",
    "\n",
    "pixel_stats_df = pd.DataFrame()\n",
    "pixel_stats_df['event']=pd.Series(event_num)\n",
    "pixel_stats_df['pix_x']=pd.Series(active_pix_x)\n",
    "pixel_stats_df['pix_y']=pd.Series(active_pix_y)\n",
    "pixel_stats_df['resets']=pd.Series(resets_num)\n",
    "pixel_stats_df['mean_ToA']=pd.Series(mean_resets)\n",
    "pixel_stats_df['RMS']=pd.Series(rms_resets)\n",
    "pixel_stats_df.to_pickle('pixel_stats_df.pkl')"
   ]
  },
  {
   "cell_type": "code",
   "execution_count": null,
   "metadata": {},
   "outputs": [],
   "source": [
    "print(pixel_stats_df)"
   ]
  },
  {
   "cell_type": "code",
   "execution_count": null,
   "metadata": {},
   "outputs": [],
   "source": [
    "print(active_pixels_df)"
   ]
  },
  {
   "cell_type": "code",
   "execution_count": null,
   "metadata": {},
   "outputs": [],
   "source": [
    "print(pixel_stats_df[pixel_stats_df.event == 0])"
   ]
  },
  {
   "cell_type": "code",
   "execution_count": null,
   "metadata": {},
   "outputs": [],
   "source": []
  }
 ],
 "metadata": {
  "kernelspec": {
   "display_name": "Python 3",
   "language": "python",
   "name": "python3"
  },
  "language_info": {
   "codemirror_mode": {
    "name": "ipython",
    "version": 3
   },
   "file_extension": ".py",
   "mimetype": "text/x-python",
   "name": "python",
   "nbconvert_exporter": "python",
   "pygments_lexer": "ipython3",
   "version": "3.8.6"
  }
 },
 "nbformat": 4,
 "nbformat_minor": 4
}
