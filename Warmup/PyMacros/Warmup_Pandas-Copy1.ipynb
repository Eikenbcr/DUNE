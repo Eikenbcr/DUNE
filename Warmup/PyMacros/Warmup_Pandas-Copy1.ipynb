{
 "cells": [
  {
   "cell_type": "code",
   "execution_count": null,
   "metadata": {},
   "outputs": [],
   "source": [
    "%matplotlib inline\n",
    "import matplotlib.pyplot as plt\n",
    "import pandas as pd\n",
    "import numpy as np\n",
    "from mpl_toolkits.mplot3d import art3d\n",
    "from scipy.optimize import curve_fit\n",
    "from scipy.stats import chisquare"
   ]
  },
  {
   "cell_type": "code",
   "execution_count": null,
   "metadata": {},
   "outputs": [],
   "source": [
    "int_stats_df = pd.read_pickle(\"int_stats_df.pkl\")\n",
    "event0_g4_df = pd.read_pickle(\"event0_g4_df.pkl\")\n",
    "resets_df_micro = pd.read_pickle(\"resets_df_micro.pkl\")\n",
    "event0_resets_df_micro = pd.read_pickle(\"event0_resets_df_micro.pkl\")\n",
    "active_pixels_df = pd.read_pickle(\"active_pixels_df.pkl\")\n",
    "pixel_stats_df = pd.read_pickle(\"pixel_stats_df.pkl\")"
   ]
  },
  {
   "cell_type": "code",
   "execution_count": null,
   "metadata": {},
   "outputs": [],
   "source": [
    "fig, axes = plt.subplots(1, 3, figsize=(20,5))\n",
    "int_stats_df[\"xi_muon\"].hist(ax=axes[0], bins=np.arange(119, 121, 0.2))\n",
    "axes[0].locator_params(axis='x', nbins=6)\n",
    "axes[0].set_title('Initial X Position of Muons')\n",
    "axes[0].set_xlabel('X Position [cm]')\n",
    "axes[0].set_ylabel('Events / 0.2 cm')\n",
    "int_stats_df[\"yi_muon\"].hist(ax=axes[1], bins=np.arange(-1, 1, 0.2))\n",
    "axes[1].set_title('Initial Y Position of Muons')\n",
    "axes[1].set_xlabel('Y Position [cm]')\n",
    "axes[1].set_ylabel('Events / 0.2 cm')\n",
    "int_stats_df[\"zi_muon\"].hist(ax=axes[2], bins=np.arange(50, 300, 2))\n",
    "axes[2].set_title('Initial Z Position of Muons')\n",
    "axes[2].set_xlabel('Z Position [cm]')\n",
    "axes[2].set_ylabel('Events / 2.0 cm')\n",
    "axes[0].plot\n",
    "axes[1].plot\n",
    "axes[2].plot\n",
    "plt.savefig('Muon_Positions.png', dpi=1200)"
   ]
  },
  {
   "cell_type": "code",
   "execution_count": null,
   "metadata": {},
   "outputs": [],
   "source": [
    "fig = plt.figure()\n",
    "for idx,row in event0_g4_df.iterrows():\n",
    "    plt.plot([row.xi, row.xf], [row.yi, row.yf], 'k-') \n",
    "plt.title(\"Track Hits in X-Y Plane\")\n",
    "plt.xlabel(\"X Position [cm]\")\n",
    "plt.ylabel(\"Y Position [cm]\")\n",
    "plt.savefig('HitTracks_XY.png', dpi=1200)"
   ]
  },
  {
   "cell_type": "code",
   "execution_count": null,
   "metadata": {},
   "outputs": [],
   "source": [
    "fig = plt.figure()\n",
    "for idx,row in event0_g4_df.iterrows():\n",
    "    plt.plot([row.xi, row.xf], [row.zi, row.zf], 'k-') \n",
    "plt.title(\"Track Hits in X-Z Plane\")\n",
    "plt.xlabel(\"X Position [cm]\")\n",
    "plt.ylabel(\"Z Position [cm]\")\n",
    "plt.savefig('HitTracks_XZ.png', dpi=1200)"
   ]
  },
  {
   "cell_type": "code",
   "execution_count": null,
   "metadata": {},
   "outputs": [],
   "source": [
    "fig = plt.figure()\n",
    "for idx,row in event0_g4_df.iterrows():\n",
    "    plt.plot([row.yi, row.yf], [row.zi, row.zf], 'k-') \n",
    "plt.title(\"Track Hits in Y-Z Plane\")\n",
    "plt.xlabel(\"Y Position [cm]\")\n",
    "plt.ylabel(\"Z Position [cm]\")\n",
    "plt.savefig('HitTracks_YZ.png', dpi=1200)"
   ]
  },
  {
   "cell_type": "code",
   "execution_count": null,
   "metadata": {},
   "outputs": [],
   "source": [
    "xi_0= event0_g4_df.xi\n",
    "xf_0= event0_g4_df.xf\n",
    "yi_0= event0_g4_df.yi\n",
    "yf_0= event0_g4_df.yf\n",
    "zi_0= event0_g4_df.zi\n",
    "zf_0= event0_g4_df.zf\n",
    "\n",
    "def draw_3d_lines(xi, yi, zi, xf, yf, zf):\n",
    "    fig = plt.figure()\n",
    "    ax = fig.add_subplot(111, projection='3d')\n",
    "\n",
    "    for i in range(len(xi)):\n",
    "        line = art3d.Line3D([xi[i], xf[i]], [yi[i], yf[i]], [zi[i], zf[i]], ls='-', lw='0.25', color='b')\n",
    "        ax.add_line(line)\n",
    "    \n",
    "    plt.title(\"Track Hits in 3D\")\n",
    "    ax.set_xlabel(\"X Position [cm]\")\n",
    "    ax.set_ylabel(\"Y Position [cm]\")\n",
    "    ax.set_zlabel(\"Z Position [cm]\")\n",
    "    ax.set_xlim3d([np.min(xi), np.max(xf)])\n",
    "    ax.set_ylim3d([np.min(yi), np.max(yf)])\n",
    "    ax.set_zlim3d([np.min(zi), np.max(zf)])\n",
    "    ax.plot\n",
    "\n",
    "draw_3d_lines(xi_0, yi_0, zi_0, xf_0, yf_0, zf_0)\n",
    "plt.savefig('HitTracks_3D.png', dpi=1200)"
   ]
  },
  {
   "cell_type": "code",
   "execution_count": null,
   "metadata": {},
   "outputs": [],
   "source": [
    "plt.hist(active_pixels_df.active_pixels, bins=np.arange(1500, 1650, 10))\n",
    "plt.title(\"Number of Active Pixels in an Event\")\n",
    "plt.xlabel(\"Number of Active Pixels per Event\")\n",
    "plt.ylabel(\"Number of Events\")\n",
    "plt.savefig('Active_Pixels_in_Event.png', dpi=1200)"
   ]
  },
  {
   "cell_type": "code",
   "execution_count": null,
   "metadata": {},
   "outputs": [],
   "source": [
    "plt.hist(pixel_stats_df.resets, bins=np.arange(0, 20, 1))\n",
    "plt.xticks(range(0,20,2))\n",
    "plt.yscale(\"log\")\n",
    "plt.title(\"Number of Resets per Active Pixel\")\n",
    "plt.xlabel(\"Number of Resets\")\n",
    "plt.ylabel(\"Number of Pixels\")\n",
    "plt.savefig('Resets_per_Pixel.png', dpi=1200)"
   ]
  },
  {
   "cell_type": "code",
   "execution_count": null,
   "metadata": {},
   "outputs": [],
   "source": [
    "xbin_range_one = max(pixel_stats_df[pixel_stats_df.event == 0].pix_x) - min(pixel_stats_df[pixel_stats_df.event == 0].pix_x)\n",
    "ybin_range_one = max(pixel_stats_df[pixel_stats_df.event == 0].pix_y) - min(pixel_stats_df[pixel_stats_df.event == 0].pix_y)\n",
    "fig = plt.figure()\n",
    "plt.hist2d(pixel_stats_df[pixel_stats_df.event == 0].pix_x, pixel_stats_df[pixel_stats_df.event == 0].pix_y, bins=[xbin_range_one,ybin_range_one], cmin=1, cmap='plasma')\n",
    "plt.xlim(280,320)\n",
    "plt.title(\"QPix Reset Heatmap [Event 0]\")\n",
    "plt.xlabel(\"X Coordinate [pixel]\")\n",
    "plt.ylabel(\"Y Coordinate [pixel]\")\n",
    "plt.savefig('QPix_Heatmap_OneEvent.png', dpi=1200)"
   ]
  },
  {
   "cell_type": "code",
   "execution_count": null,
   "metadata": {},
   "outputs": [],
   "source": [
    "xbin_range_one = max(pixel_stats_df[pixel_stats_df.event == 0].pix_x) - min(pixel_stats_df[pixel_stats_df.event == 0].pix_x)\n",
    "ybin_range_one = max(pixel_stats_df[pixel_stats_df.event == 0].pix_y) - min(pixel_stats_df[pixel_stats_df.event == 0].pix_y)\n",
    "fig = plt.figure()\n",
    "plt.hist2d(pixel_stats_df[pixel_stats_df.event == 0].pix_x, pixel_stats_df[pixel_stats_df.event == 0].pix_y, bins=[xbin_range_one,ybin_range_one], weights=pixel_stats_df[pixel_stats_df.event == 0].resets, cmin=1, cmap='plasma')\n",
    "cb = plt.colorbar()\n",
    "cb.set_label('Number of Resets')\n",
    "plt.xlim(280,320)\n",
    "plt.title(\"QPix Reset Heatmap [Event 0]\")\n",
    "plt.xlabel(\"X Coordinate [pixel]\")\n",
    "plt.ylabel(\"Y Coordinate [pixel]\")\n",
    "plt.savefig('QPix_Heatmap_OneEvent_Weighted.png', dpi=1200)"
   ]
  },
  {
   "cell_type": "code",
   "execution_count": null,
   "metadata": {},
   "outputs": [],
   "source": [
    "xbin_range = max(pixel_stats_df.pix_x) - min(pixel_stats_df.pix_x)\n",
    "ybin_range = max(pixel_stats_df.pix_y) - min(pixel_stats_df.pix_y)\n",
    "fig = plt.figure()\n",
    "plt.hist2d(pixel_stats_df.pix_x, pixel_stats_df.pix_y, bins=[xbin_range,ybin_range], cmin=1, cmap='plasma')\n",
    "cb = plt.colorbar()\n",
    "cb.set_label('Number of Events')\n",
    "plt.xlim(260,340)\n",
    "plt.title(\"QPix Reset Heatmap\")\n",
    "plt.xlabel(\"X Coordinate [pixel]\")\n",
    "plt.ylabel(\"Y Coordinate [pixel]\")\n",
    "plt.savefig('QPix_Heatmap.png', dpi=1200)"
   ]
  },
  {
   "cell_type": "code",
   "execution_count": null,
   "metadata": {},
   "outputs": [],
   "source": [
    "xbin_range = max(pixel_stats_df.pix_x) - min(pixel_stats_df.pix_x)\n",
    "ybin_range = max(pixel_stats_df.pix_y) - min(pixel_stats_df.pix_y)\n",
    "fig = plt.figure()\n",
    "plt.hist2d(pixel_stats_df.pix_x, pixel_stats_df.pix_y, bins=[xbin_range,ybin_range], weights=pixel_stats_df.resets, cmin=1, cmap='plasma')\n",
    "cb = plt.colorbar()\n",
    "cb.set_label('Number of Resets')\n",
    "plt.xlim(260,340)\n",
    "plt.title(\"QPix Reset Heatmap\")\n",
    "plt.xlabel(\"X Coordinate [pixel]\")\n",
    "plt.ylabel(\"Y Coordinate [pixel]\")\n",
    "plt.savefig('QPix_Heatmap_Weighted.png', dpi=1200)"
   ]
  },
  {
   "cell_type": "code",
   "execution_count": null,
   "metadata": {},
   "outputs": [],
   "source": [
    "fig = plt.figure()\n",
    "plt.hist(event0_resets_df_micro[event0_resets_df_micro.pixel_x == 300][event0_resets_df_micro.pixel_y == 534].reset_time)\n",
    "plt.ylabel(\"Number of Resets\")\n",
    "plt.xlabel(\"Reset Time [$\\mu$s]\")\n",
    "plt.title(\"Resets in Pixel (300,534) [Event 0]\")\n",
    "plt.savefig('ResetHist_OneEvent.png', dpi=1200)"
   ]
  },
  {
   "cell_type": "code",
   "execution_count": null,
   "metadata": {},
   "outputs": [],
   "source": [
    "fig = plt.figure()\n",
    "plt.scatter(pixel_stats_df[pixel_stats_df.resets > 2][pixel_stats_df.event == 0].mean_ToA, pixel_stats_df[pixel_stats_df.resets > 2][pixel_stats_df.event == 0].RMS, s=2)\n",
    "plt.xlim([480, 510])\n",
    "plt.ylim([0,1.5])\n",
    "plt.ylabel(\"RMS [$\\mu$s]\")\n",
    "plt.xlabel(\"Mean(ToA) [$\\mu$s]\")\n",
    "plt.title(\"RMS vs Mean(ToA)\")\n",
    "plt.savefig('MeanReset_vs_RMS_OneEvent.png', dpi=1200)"
   ]
  },
  {
   "cell_type": "code",
   "execution_count": null,
   "metadata": {},
   "outputs": [],
   "source": [
    "fig = plt.figure()\n",
    "plt.scatter(pixel_stats_df[pixel_stats_df.resets > 2].mean_ToA, pixel_stats_df[pixel_stats_df.resets > 2].RMS, s=2)\n",
    "plt.xlim([300, 1850])\n",
    "plt.ylim([0,1.5])\n",
    "plt.ylabel(\"RMS [$\\mu$s]\")\n",
    "plt.xlabel(\"Mean(ToA) [$\\mu$s]\")\n",
    "plt.title(\"RMS vs Mean(ToA)\")\n",
    "plt.savefig('MeanReset_vs_RMS.png', dpi=1200)"
   ]
  },
  {
   "cell_type": "code",
   "execution_count": null,
   "metadata": {},
   "outputs": [],
   "source": [
    "fig = plt.figure()\n",
    "plt.scatter(pixel_stats_df[pixel_stats_df.resets > 2].mean_ToA*1.648, pixel_stats_df[pixel_stats_df.resets > 2].RMS, s=2)\n",
    "plt.xlim([500, 3000])\n",
    "plt.ylim([0,1.5])\n",
    "plt.ylabel(\"RMS [$\\mu$s]\")\n",
    "plt.xlabel(\"Z [mm]\")\n",
    "plt.title(\"RMS vs Z\")\n",
    "plt.savefig('Z_vs_RMS.png', dpi=1200)"
   ]
  },
  {
   "cell_type": "code",
   "execution_count": null,
   "metadata": {},
   "outputs": [],
   "source": [
    "minToA = 400\n",
    "maxToA = 1600\n",
    "bins = 20\n",
    "bw = (maxToA-minToA)/bins\n",
    "\n",
    "minRMSarr = []\n",
    "minToAarr = []\n",
    "RMSbinsarr = []\n",
    "\n",
    "for i in range(0, bins):\n",
    "        minRMSarr.append(min(pixel_stats_df[pixel_stats_df.resets > 2][pixel_stats_df.mean_ToA > ((minToA+bw*i) - bw/2)][pixel_stats_df.mean_ToA < ((minToA+bw*i) + bw/2)].RMS))\n",
    "        minToAarr.append(minToA+bw*i)\n",
    "        RMSbinsarr.append((pixel_stats_df[pixel_stats_df.resets > 2][pixel_stats_df.mean_ToA > ((minToA+bw*i) - bw/2)][pixel_stats_df.mean_ToA < ((minToA+bw*i) + bw/2)][pixel_stats_df.RMS < 2].RMS))"
   ]
  },
  {
   "cell_type": "code",
   "execution_count": null,
   "metadata": {},
   "outputs": [],
   "source": [
    "minRMS = np.multiply(minRMSarr,1e-6)\n",
    "minToA = np.multiply(minToAarr,1e-6)\n",
    "RMSbins = np.multiply(RMSbinsarr,1e-6)\n",
    "\n",
    "def sqrt_func(t, a):\n",
    "    y = a*np.sqrt(t)\n",
    "    return y\n",
    "\n",
    "par_min, cov_min = curve_fit(sqrt_func, minToA, minRMS)\n",
    "fit_a_min = par_min[0]\n",
    "\n",
    "min_fit = sqrt_func(minToA, fit_a_min)\n",
    "\n",
    "fig = plt.figure()\n",
    "plt.plot(minToA, minRMS, 'o', label='Data')\n",
    "plt.plot(minToA, min_fit, '-', label='{:0.3}$*\\sqrt{{Mean(ToA)}}$'.format(fit_a_min))\n",
    "plt.ylabel(\"Min(RMS) [s]\")\n",
    "plt.xlabel(\"Mean(ToA) [s]\")\n",
    "plt.title(\"Min(RMS) vs Mean(ToA)\")\n",
    "plt.legend()\n",
    "plt.savefig('Mean_ToA_vs_Min_RMS.png', dpi=1200)"
   ]
  },
  {
   "cell_type": "code",
   "execution_count": null,
   "metadata": {},
   "outputs": [],
   "source": [
    "fig, axes = plt.subplots(1, 3, figsize=(20,5))\n",
    "RMSbinsarr[0].hist(ax=axes[0],  bins=50)\n",
    "axes[0].set_ylabel(\"Number of QPix\")\n",
    "axes[0].set_xlabel(\"RMS [$\\mu$s] \")\n",
    "axes[0].set_title(\"RMS Values with 340 < Mean(ToA) [$\\mu s$] < 460\")\n",
    "RMSbinsarr[1].hist(ax=axes[1],  bins=50)\n",
    "axes[1].set_ylabel(\"Number of QPix\")\n",
    "axes[1].set_xlabel(\"RMS [$\\mu$s] \")\n",
    "axes[1].set_title(\"RMS Values with 460 < Mean(ToA) [$\\mu s$] < 580\")\n",
    "RMSbinsarr[2].hist(ax=axes[2],  bins=50)\n",
    "axes[2].set_ylabel(\"Number of QPix\")\n",
    "axes[2].set_xlabel(\"RMS [$\\mu$s] \")\n",
    "axes[2].set_title(\"RMS Values with 580 < Mean(ToA) [$\\mu s$] < 700\")\n",
    "axes[0].grid(False)\n",
    "axes[1].grid(False)\n",
    "axes[2].grid(False)\n",
    "axes[0].plot\n",
    "axes[1].plot\n",
    "axes[2].plot\n",
    "plt.savefig('RMS_values_at_Mean_ToA.png', dpi=1200)"
   ]
  },
  {
   "cell_type": "code",
   "execution_count": null,
   "metadata": {},
   "outputs": [],
   "source": [
    "meanRMS=[]\n",
    "for i in range(0, bins):\n",
    "    meanRMS.append(np.mean(RMSbins[i]))"
   ]
  },
  {
   "cell_type": "code",
   "execution_count": null,
   "metadata": {},
   "outputs": [],
   "source": [
    "par_mean, cov_mean = curve_fit(sqrt_func, minToA, meanRMS)\n",
    "fit_a_mean = par_mean[0]\n",
    "\n",
    "mean_fit = sqrt_func(minToA, fit_a_mean)\n",
    "\n",
    "fig = plt.figure()\n",
    "plt.plot(minToA, meanRMS, 'o', label='Data')\n",
    "plt.plot(minToA, mean_fit, '-', label='{:0.3}$*\\sqrt{{Mean(ToA)}}$'.format(fit_a_mean))\n",
    "plt.ylabel(\"Mean(RMS) [s]\")\n",
    "plt.xlabel(\"Mean(ToA) [s]\")\n",
    "plt.title(\"Mean(RMS) vs Mean(ToA)\")\n",
    "plt.legend()\n",
    "plt.savefig('Mean_ToA_vs_Mean_RMS.png', dpi=1200)"
   ]
  },
  {
   "cell_type": "code",
   "execution_count": null,
   "metadata": {},
   "outputs": [],
   "source": [
    "minRMSEventarr = []\n",
    "minToAEventarr = []\n",
    "minEventNumEventarr = []\n",
    "\n",
    "min([], default=\"EMPTY\")\n",
    "for i in range(0, 100):\n",
    "    if min(pixel_stats_df[pixel_stats_df.event == i][pixel_stats_df.resets > 7].RMS, default=0) > 0 and min(pixel_stats_df[pixel_stats_df.event == i][pixel_stats_df.resets > 7].RMS, default=0) < 1.25:\n",
    "        minRMSEventarr.append(min(pixel_stats_df[pixel_stats_df.event == i][pixel_stats_df.resets > 7].RMS, default=0))\n",
    "        minToAEventarr.append(pixel_stats_df[pixel_stats_df.event == i][pixel_stats_df.RMS == minRMSEventarr[-1]]['mean_ToA'].iloc[0])\n",
    "        minEventNumEventarr.append(i)\n",
    "\n",
    "minEvent_df = pd.DataFrame()    \n",
    "minEvent_df['ToA']=pd.Series(np.multiply(minToAEventarr,1e-6))\n",
    "minEvent_df['RMS']=pd.Series(np.multiply(minRMSEventarr,1e-6))\n",
    "minEvent_df['Event']=pd.Series(minEventNumEventarr)\n",
    "minEvent_df = minEvent_df.sort_values(by=['ToA'])"
   ]
  },
  {
   "cell_type": "code",
   "execution_count": null,
   "metadata": {},
   "outputs": [],
   "source": [
    "par_min_Event, cov_min_Event = curve_fit(sqrt_func, minEvent_df.ToA, minEvent_df.RMS, p0=2e-5)\n",
    "fit_a_min_Event = par_min_Event[0]\n",
    "\n",
    "min_fit_Event = sqrt_func(minEvent_df.ToA, fit_a_min_Event)\n",
    "\n",
    "fig = plt.figure()\n",
    "plt.plot(minEvent_df.ToA, minEvent_df.RMS, 'o', label='Data')\n",
    "plt.plot(minEvent_df.ToA, min_fit_Event, '-', label='{:0.3}$*\\sqrt{{Mean(ToA)}}$'.format(fit_a_min_Event))\n",
    "plt.ylabel(\"Min(RMS) [s]\")\n",
    "plt.xlabel(\"Mean(ToA) [s]\")\n",
    "plt.title(\"Min(RMS) vs Mean(ToA) by Event\")\n",
    "plt.legend()\n",
    "plt.savefig('Mean_ToA_vs_Min_RMS_perEvent.png', dpi=1200)"
   ]
  },
  {
   "cell_type": "code",
   "execution_count": null,
   "metadata": {},
   "outputs": [],
   "source": [
    "deltaRMS = minEvent_df.RMS-min_fit_Event\n",
    "\n",
    "fig = plt.figure()\n",
    "plt.plot(minEvent_df.ToA, deltaRMS, 'o', label='Data')\n",
    "plt.axhline(y=0, color='black', linestyle='--')\n",
    "plt.axhline(y=deltaRMS.std() * 3, color='r', linestyle='--')\n",
    "plt.axhline(y=-deltaRMS.std() * 3, color='r', linestyle='--')\n",
    "plt.axhline(y=deltaRMS.std() * 2, color='orange', linestyle='--')\n",
    "plt.axhline(y=-deltaRMS.std() * 2, color='orange', linestyle='--')\n",
    "plt.ylabel(\"Delta(RMS) [s]\")\n",
    "plt.xlabel(\"Mean(ToA) [s]\")\n",
    "plt.title(\"Delta(RMS) vs Mean(ToA) by Event\")\n",
    "\n",
    "for i in range(0, len(deltaRMS)):\n",
    "    if deltaRMS[i] > deltaRMS.std() * 2:\n",
    "        plt.annotate('E{}'.format(minEvent_df.Event[i]), (minEvent_df.ToA[i], deltaRMS[i]), weight='bold', fontsize=7.5)\n",
    "\n",
    "        \n",
    "plt.savefig('Mean_ToA_vs_Delta_RMS_perEvent.png', dpi=1200)"
   ]
  },
  {
   "cell_type": "code",
   "execution_count": null,
   "metadata": {},
   "outputs": [],
   "source": []
  }
 ],
 "metadata": {
  "kernelspec": {
   "display_name": "Python 3",
   "language": "python",
   "name": "python3"
  },
  "language_info": {
   "codemirror_mode": {
    "name": "ipython",
    "version": 3
   },
   "file_extension": ".py",
   "mimetype": "text/x-python",
   "name": "python",
   "nbconvert_exporter": "python",
   "pygments_lexer": "ipython3",
   "version": "3.8.6"
  }
 },
 "nbformat": 4,
 "nbformat_minor": 4
}
